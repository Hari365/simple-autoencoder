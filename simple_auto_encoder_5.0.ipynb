{
 "cells": [
  {
   "cell_type": "markdown",
   "metadata": {},
   "source": [
    "This notebook implements autoencoder with sparse encoding. With 100 activation units in the hidden layer. "
   ]
  },
  {
   "cell_type": "code",
   "execution_count": 1,
   "metadata": {},
   "outputs": [],
   "source": [
    "import tensorflow as tf\n",
    "import numpy as np\n",
    "import matplotlib.pyplot as plt"
   ]
  },
  {
   "cell_type": "code",
   "execution_count": 2,
   "metadata": {},
   "outputs": [],
   "source": [
    "from tensorflow.examples.tutorials.mnist import input_data"
   ]
  },
  {
   "cell_type": "code",
   "execution_count": 3,
   "metadata": {},
   "outputs": [
    {
     "name": "stdout",
     "output_type": "stream",
     "text": [
      "Extracting /tmp/data/train-images-idx3-ubyte.gz\n",
      "Extracting /tmp/data/train-labels-idx1-ubyte.gz\n",
      "Extracting /tmp/data/t10k-images-idx3-ubyte.gz\n",
      "Extracting /tmp/data/t10k-labels-idx1-ubyte.gz\n"
     ]
    }
   ],
   "source": [
    "mnist = input_data.read_data_sets('/tmp/data/', one_hot=True)"
   ]
  },
  {
   "cell_type": "code",
   "execution_count": 4,
   "metadata": {},
   "outputs": [],
   "source": [
    "learning_rate = 0.0005\n",
    "num_in = 784\n",
    "num_h = 5\n",
    "num_out = 784\n",
    "num_epochs = 100\n",
    "img_size = [28,28]\n",
    "batch_size = 100"
   ]
  },
  {
   "cell_type": "code",
   "execution_count": 5,
   "metadata": {},
   "outputs": [],
   "source": [
    "x = tf.placeholder(tf.float32, [None,num_in])"
   ]
  },
  {
   "cell_type": "code",
   "execution_count": 6,
   "metadata": {},
   "outputs": [],
   "source": [
    "rho = tf.fill([1,num_h], 0.01)"
   ]
  },
  {
   "cell_type": "code",
   "execution_count": 7,
   "metadata": {},
   "outputs": [],
   "source": [
    "weights = {\n",
    "    'in':tf.Variable(tf.random_normal([num_in, num_h])),\n",
    "    'h':tf.Variable(tf.random_normal([num_h, num_out]))\n",
    "}\n",
    "\n",
    "biases = {\n",
    "    'in':tf.Variable(tf.random_normal([1,num_h])),\n",
    "    'h':tf.Variable(tf.random_normal([1,num_out]))\n",
    "}"
   ]
  },
  {
   "cell_type": "code",
   "execution_count": 8,
   "metadata": {},
   "outputs": [],
   "source": [
    "h_layer = tf.add(tf.matmul(x, weights['in']), biases['in'])\n",
    "h_layer = tf.nn.sigmoid(h_layer)\n",
    "out_layer = tf.add(tf.matmul(h_layer, weights['h']), biases['h'])"
   ]
  },
  {
   "cell_type": "code",
   "execution_count": 9,
   "metadata": {},
   "outputs": [],
   "source": [
    "rho_cap = tf.Variable(tf.zeros([1, num_h]))\n",
    "rho_cap = rho_cap + h_layer/mnist.train.num_examples"
   ]
  },
  {
   "cell_type": "code",
   "execution_count": 10,
   "metadata": {},
   "outputs": [],
   "source": [
    "loss_op = tf.losses.mean_squared_error(out_layer, x)"
   ]
  },
  {
   "cell_type": "code",
   "execution_count": 11,
   "metadata": {},
   "outputs": [],
   "source": [
    "#optimizer = tf.train.AdamOptimizer(learning_rate)"
   ]
  },
  {
   "cell_type": "code",
   "execution_count": 12,
   "metadata": {},
   "outputs": [],
   "source": [
    "#train_op = optimizer.minimize(loss_op)"
   ]
  },
  {
   "cell_type": "code",
   "execution_count": 13,
   "metadata": {},
   "outputs": [],
   "source": [
    "ones = tf.Variable(tf.ones([1,num_h]))"
   ]
  },
  {
   "cell_type": "code",
   "execution_count": 14,
   "metadata": {},
   "outputs": [],
   "source": [
    "#kl_loss = tf.multiply(rho, tf.log(tf.div(rho, rho_cap))) + tf.multiply((ones-rho), tf.log(tf.div(ones-rho, ones-rho_cap)))"
   ]
  },
  {
   "cell_type": "code",
   "execution_count": 15,
   "metadata": {},
   "outputs": [],
   "source": [
    "#loss_op1 = tf.reduce_mean(kl_loss)"
   ]
  },
  {
   "cell_type": "code",
   "execution_count": 16,
   "metadata": {},
   "outputs": [],
   "source": [
    "loss_op1 = 0\n",
    "for i in range(5):\n",
    "    loss_op1 += rho[0,0]*tf.log(rho[0,0]/rho_cap[0,i]) + (1-rho[0,0])*tf.log((1-rho[0,0])/(1-rho_cap[0,i]))"
   ]
  },
  {
   "cell_type": "code",
   "execution_count": 17,
   "metadata": {},
   "outputs": [],
   "source": [
    "loss_op2 = loss_op1 + loss_op"
   ]
  },
  {
   "cell_type": "code",
   "execution_count": 18,
   "metadata": {},
   "outputs": [],
   "source": [
    "optimizer1= tf.train.AdamOptimizer(1e-4)"
   ]
  },
  {
   "cell_type": "code",
   "execution_count": 19,
   "metadata": {},
   "outputs": [],
   "source": [
    "train_op1 = optimizer1.minimize(loss_op2)"
   ]
  },
  {
   "cell_type": "code",
   "execution_count": 20,
   "metadata": {},
   "outputs": [],
   "source": [
    "init = tf.global_variables_initializer()"
   ]
  },
  {
   "cell_type": "code",
   "execution_count": 21,
   "metadata": {},
   "outputs": [],
   "source": [
    "saver = tf.train.Saver()"
   ]
  },
  {
   "cell_type": "code",
   "execution_count": 22,
   "metadata": {},
   "outputs": [
    {
     "name": "stdout",
     "output_type": "stream",
     "text": [
      "after 1 epochs error cost is 2.375930760557003,sparse encoding cost is 0.05981990643522959\n",
      "after 2 epochs error cost is 1.5843780322508363,sparse encoding cost is 0.03578563848341055\n",
      "after 3 epochs error cost is 1.2141696739196786,sparse encoding cost is 0.026799637952988804\n",
      "after 4 epochs error cost is 1.01935124353929,sparse encoding cost is 0.021293690072541865\n",
      "after 5 epochs error cost is 0.893683996200561,sparse encoding cost is 0.017344234809279435\n",
      "after 6 epochs error cost is 0.7989478900215838,sparse encoding cost is 0.014272029298272992\n",
      "after 7 epochs error cost is 0.721601896394383,sparse encoding cost is 0.011793459245765763\n",
      "after 8 epochs error cost is 0.6556577829881144,sparse encoding cost is 0.009750849208371203\n",
      "after 9 epochs error cost is 0.5980734599720353,sparse encoding cost is 0.0080532300895588\n",
      "after 10 epochs error cost is 0.5469508010690861,sparse encoding cost is 0.006630461923778064\n",
      "after 11 epochs error cost is 0.5010275597463952,sparse encoding cost is 0.0054311814362352565\n",
      "after 12 epochs error cost is 0.4594764484058726,sparse encoding cost is 0.004412586271593517\n",
      "after 13 epochs error cost is 0.4217395141449841,sparse encoding cost is 0.003543350835415448\n",
      "after 14 epochs error cost is 0.38741321926767164,sparse encoding cost is 0.0027991706979545662\n",
      "after 15 epochs error cost is 0.35616070617328965,sparse encoding cost is 0.0021634100140495716\n",
      "after 16 epochs error cost is 0.3276955065943978,sparse encoding cost is 0.0016244573000056524\n",
      "after 17 epochs error cost is 0.3017839595946399,sparse encoding cost is 0.0011750857055779873\n",
      "after 18 epochs error cost is 0.2782233847271314,sparse encoding cost is 0.0008108077365481719\n",
      "after 19 epochs error cost is 0.25681847103617417,sparse encoding cost is 0.0005272669403877281\n",
      "after 20 epochs error cost is 0.23739491183649405,sparse encoding cost is 0.000318257592020514\n",
      "after 21 epochs error cost is 0.21979428993030045,sparse encoding cost is 0.00017466334181583739\n",
      "after 22 epochs error cost is 0.20387034819884722,sparse encoding cost is 8.47482254440283e-05\n",
      "after 23 epochs error cost is 0.18948452440175156,sparse encoding cost is 3.5031604794229716e-05\n",
      "after 24 epochs error cost is 0.17650665627284484,sparse encoding cost is 1.1714644299652049e-05\n",
      "after 25 epochs error cost is 0.1648156483877787,sparse encoding cost is 2.968292659592078e-06\n",
      "after 26 epochs error cost is 0.15429354356093836,sparse encoding cost is 5.366801530147896e-07\n",
      "after 27 epochs error cost is 0.14483003074472586,sparse encoding cost is 7.664578643701781e-08\n",
      "after 28 epochs error cost is 0.13632307995449394,sparse encoding cost is 2.5735439167204065e-08\n",
      "after 29 epochs error cost is 0.1286769357052716,sparse encoding cost is 3.512950289915909e-08\n",
      "after 30 epochs error cost is 0.12180543864315209,sparse encoding cost is 2.8373257902159934e-08\n",
      "after 31 epochs error cost is 0.11563195603814987,sparse encoding cost is 1.7946932966820982e-08\n",
      "after 32 epochs error cost is 0.11008993345228102,sparse encoding cost is 4.7258750632020825e-09\n",
      "after 33 epochs error cost is 0.10512035258791667,sparse encoding cost is 3.527623686333021e-08\n",
      "after 34 epochs error cost is 0.10067033143206076,sparse encoding cost is 3.480674647090862e-08\n",
      "after 35 epochs error cost is 0.09669238509102317,sparse encoding cost is 2.5910704276296587e-08\n",
      "after 36 epochs error cost is 0.09314409952272071,sparse encoding cost is 3.1917899072843966e-08\n",
      "after 37 epochs error cost is 0.08998377904295908,sparse encoding cost is 2.7636889458968683e-08\n",
      "after 38 epochs error cost is 0.08717285761778999,sparse encoding cost is 2.5113648562744784e-08\n",
      "after 39 epochs error cost is 0.08467507392168051,sparse encoding cost is 2.739058276877353e-08\n",
      "after 40 epochs error cost is 0.08245621530847123,sparse encoding cost is 2.427430486355449e-08\n",
      "after 41 epochs error cost is 0.08048725988377223,sparse encoding cost is 2.5467571153777024e-08\n",
      "after 42 epochs error cost is 0.07874102095311343,sparse encoding cost is 3.886368258200113e-08\n",
      "after 43 epochs error cost is 0.0771946031261574,sparse encoding cost is 3.8217411114346555e-08\n",
      "after 44 epochs error cost is 0.07582815070043912,sparse encoding cost is 3.746197724272737e-08\n",
      "after 45 epochs error cost is 0.07462393121285871,sparse encoding cost is 4.2540832737278166e-08\n",
      "after 46 epochs error cost is 0.07356636839834133,sparse encoding cost is 4.0270967897352034e-08\n",
      "after 47 epochs error cost is 0.07264071983369913,sparse encoding cost is 3.238158718156147e-08\n",
      "after 48 epochs error cost is 0.07183364399454809,sparse encoding cost is 3.8800810454093155e-08\n",
      "after 49 epochs error cost is 0.071132497584278,sparse encoding cost is 4.49787705398223e-08\n",
      "after 50 epochs error cost is 0.0705246240577915,sparse encoding cost is 6.089049267364967e-08\n",
      "after 51 epochs error cost is 0.06999930005181913,sparse encoding cost is 6.448918817221607e-08\n",
      "after 52 epochs error cost is 0.06954587882215327,sparse encoding cost is 6.271116881118029e-08\n",
      "after 53 epochs error cost is 0.06915501177310944,sparse encoding cost is 8.170839720156317e-08\n",
      "after 54 epochs error cost is 0.06881798152219169,sparse encoding cost is 7.894435865119965e-08\n",
      "after 55 epochs error cost is 0.06852771725844255,sparse encoding cost is 8.039276104074032e-08\n",
      "after 56 epochs error cost is 0.06827841286632146,sparse encoding cost is 8.16795060371527e-08\n",
      "after 57 epochs error cost is 0.06806476611305365,sparse encoding cost is 8.879830855633806e-08\n",
      "after 58 epochs error cost is 0.06788414799354292,sparse encoding cost is 7.895433796897592e-08\n",
      "after 59 epochs error cost is 0.0677321742339568,sparse encoding cost is 8.205938761607347e-08\n",
      "after 60 epochs error cost is 0.06760560247031124,sparse encoding cost is 8.227509794829627e-08\n",
      "after 61 epochs error cost is 0.06750144023109567,sparse encoding cost is 8.648809746037877e-08\n",
      "after 62 epochs error cost is 0.0674163970486684,sparse encoding cost is 8.695514561366224e-08\n",
      "after 63 epochs error cost is 0.06734719676727596,sparse encoding cost is 1.1208123567353242e-07\n",
      "after 64 epochs error cost is 0.06729151923548093,sparse encoding cost is 9.693945638292429e-08\n",
      "after 65 epochs error cost is 0.06724701207469808,sparse encoding cost is 9.629455121446479e-08\n",
      "after 66 epochs error cost is 0.06721184441989114,sparse encoding cost is 1.0098710075774748e-07\n",
      "after 67 epochs error cost is 0.06718378267504947,sparse encoding cost is 8.04325213416506e-08\n",
      "after 68 epochs error cost is 0.06716126116162001,sparse encoding cost is 9.203820177994259e-08\n",
      "after 69 epochs error cost is 0.06714270771227102,sparse encoding cost is 7.700032845680095e-08\n",
      "after 70 epochs error cost is 0.06712690242989498,sparse encoding cost is 9.843157919772503e-08\n",
      "after 71 epochs error cost is 0.06711319833993919,sparse encoding cost is 9.904518251376136e-08\n",
      "after 72 epochs error cost is 0.06710007609291507,sparse encoding cost is 1.1357873418276807e-07\n",
      "after 73 epochs error cost is 0.06708749024705453,sparse encoding cost is 9.544827419347905e-08\n",
      "after 74 epochs error cost is 0.0670746863294732,sparse encoding cost is 1.0356213713581434e-07\n",
      "after 75 epochs error cost is 0.06706187009811396,sparse encoding cost is 9.824190649149689e-08\n",
      "after 76 epochs error cost is 0.06704829180105171,sparse encoding cost is 8.894469173847962e-08\n",
      "after 77 epochs error cost is 0.06703431693667716,sparse encoding cost is 9.760544384204452e-08\n",
      "after 78 epochs error cost is 0.06702034284445375,sparse encoding cost is 1.0477920155516078e-07\n",
      "after 79 epochs error cost is 0.06700626416639843,sparse encoding cost is 1.0331371605897353e-07\n",
      "after 80 epochs error cost is 0.06699133497070181,sparse encoding cost is 9.319276269227246e-08\n",
      "after 81 epochs error cost is 0.06697595285421064,sparse encoding cost is 1.0677037625826036e-07\n",
      "after 82 epochs error cost is 0.06696045347235419,sparse encoding cost is 1.0071331619222366e-07\n",
      "after 83 epochs error cost is 0.06694471101869234,sparse encoding cost is 1.0863410337433062e-07\n",
      "after 84 epochs error cost is 0.06692892306230282,sparse encoding cost is 1.0329362864037638e-07\n",
      "after 85 epochs error cost is 0.06691216993738304,sparse encoding cost is 1.0998555150430112e-07\n",
      "after 86 epochs error cost is 0.06689512472938401,sparse encoding cost is 1.0077795138114186e-07\n"
     ]
    },
    {
     "name": "stdout",
     "output_type": "stream",
     "text": [
      "after 87 epochs error cost is 0.06687777950005093,sparse encoding cost is 1.0777168176545605e-07\n",
      "after 88 epochs error cost is 0.06686001284555947,sparse encoding cost is 1.0984493842837068e-07\n",
      "after 89 epochs error cost is 0.06684195371514018,sparse encoding cost is 1.0557636440725318e-07\n",
      "after 90 epochs error cost is 0.06682346514680161,sparse encoding cost is 1.0557510637196096e-07\n",
      "after 91 epochs error cost is 0.06680469109930777,sparse encoding cost is 1.0400416989530071e-07\n",
      "after 92 epochs error cost is 0.06678540449250825,sparse encoding cost is 9.78990084385148e-08\n",
      "after 93 epochs error cost is 0.06676525907082996,sparse encoding cost is 1.0050626992239777e-07\n",
      "after 94 epochs error cost is 0.0667448174614798,sparse encoding cost is 9.937213683192634e-08\n",
      "after 95 epochs error cost is 0.06672391832552184,sparse encoding cost is 1.1013806131191217e-07\n",
      "after 96 epochs error cost is 0.06670253549787132,sparse encoding cost is 1.0262253148354065e-07\n",
      "after 97 epochs error cost is 0.06668018911372532,sparse encoding cost is 1.0444785349505993e-07\n",
      "after 98 epochs error cost is 0.06665709003128788,sparse encoding cost is 1.0461535167119697e-07\n",
      "after 99 epochs error cost is 0.0666330721432512,sparse encoding cost is 1.005605226487496e-07\n",
      "after 100 epochs error cost is 0.06660836632956157,sparse encoding cost is 8.559965695133851e-08\n"
     ]
    }
   ],
   "source": [
    "with tf.Session() as sess:\n",
    "    sess.run(init)\n",
    "    \n",
    "    for epoch in range(num_epochs):\n",
    "        num_batches = mnist.train.num_examples/batch_size\n",
    "        c1=0\n",
    "        c=0\n",
    "        for _ in range(num_batches):\n",
    "            batch_x, _ = mnist.train.next_batch(batch_size)\n",
    "            _, cost1, cost = sess.run([train_op1, loss_op1, loss_op], feed_dict={x:batch_x})\n",
    "            c1 += cost1/num_batches\n",
    "            c += cost/num_batches\n",
    "        print('after '+str(epoch+1)+' epochs '+'error cost is '+str(c)+','+'sparse encoding cost is '+str(c1))\n",
    "    save_path = saver.save(sess, '/tmp/sparse_encoder4.1.ckpt')"
   ]
  },
  {
   "cell_type": "code",
   "execution_count": 23,
   "metadata": {},
   "outputs": [
    {
     "data": {
      "text/plain": [
       "55000"
      ]
     },
     "execution_count": 23,
     "metadata": {},
     "output_type": "execute_result"
    }
   ],
   "source": [
    "mnist.train.num_examples"
   ]
  },
  {
   "cell_type": "code",
   "execution_count": 25,
   "metadata": {},
   "outputs": [
    {
     "name": "stdout",
     "output_type": "stream",
     "text": [
      "INFO:tensorflow:Restoring parameters from /tmp/sparse_encoder4.1.ckpt\n"
     ]
    },
    {
     "data": {
      "image/png": "[encoded data removed]",
      "text/plain": [
       "<matplotlib.figure.Figure at 0x7f55c2d81810>"
      ]
     },
     "metadata": {},
     "output_type": "display_data"
    }
   ],
   "source": [
    "with tf.Session() as sess:\n",
    "    saver.restore(sess, '/tmp/sparse_encoder4.1.ckpt')\n",
    "    fig, axes = plt.subplots(1,5)\n",
    "    for i,ax in enumerate(axes.flat):\n",
    "        template = tf.transpose(weights['in'][:,i])\n",
    "        template = template.eval()\n",
    "        template = template/np.max(template)\n",
    "        template = template.reshape((28,28))\n",
    "        ax.imshow(template, cmap = 'binary')\n",
    "        #plt.show()"
   ]
  },
  {
   "cell_type": "code",
   "execution_count": 26,
   "metadata": {},
   "outputs": [
    {
     "name": "stdout",
     "output_type": "stream",
     "text": [
      "INFO:tensorflow:Restoring parameters from /tmp/sparse_encoder4.1.ckpt\n"
     ]
    },
    {
     "data": {
      "image/png": "[encoded data removed]",
      "text/plain": [
       "<matplotlib.figure.Figure at 0x7f55e8102490>"
      ]
     },
     "metadata": {},
     "output_type": "display_data"
    }
   ],
   "source": [
    "with tf.Session() as sess:\n",
    "    saver.restore(sess, '/tmp/sparse_encoder4.1.ckpt')\n",
    "    template = tf.transpose(weights['in'][:,0])\n",
    "    template = template.eval()\n",
    "    template = template/np.sqrt(np.sum(template**2))\n",
    "    template = template.reshape((28,28))\n",
    "    plt.imshow(template, cmap = 'binary')"
   ]
  },
  {
   "cell_type": "code",
   "execution_count": 27,
   "metadata": {},
   "outputs": [
    {
     "name": "stdout",
     "output_type": "stream",
     "text": [
      "INFO:tensorflow:Restoring parameters from /tmp/sparse_encoder4.1.ckpt\n"
     ]
    },
    {
     "data": {
      "image/png": "[encoded data removed]",
      "text/plain": [
       "<matplotlib.figure.Figure at 0x7f55c2d81f90>"
      ]
     },
     "metadata": {},
     "output_type": "display_data"
    }
   ],
   "source": [
    "with tf.Session() as sess:\n",
    "    saver.restore(sess, '/tmp/sparse_encoder4.1.ckpt')\n",
    "    template = tf.transpose(weights['in'][:,1])\n",
    "    template = template.eval()\n",
    "    template = template/np.sqrt(np.sum(template**2))\n",
    "    template = template.reshape((28,28))\n",
    "    plt.imshow(template, cmap = 'binary')"
   ]
  },
  {
   "cell_type": "code",
   "execution_count": 28,
   "metadata": {},
   "outputs": [
    {
     "name": "stdout",
     "output_type": "stream",
     "text": [
      "INFO:tensorflow:Restoring parameters from /tmp/sparse_encoder4.1.ckpt\n"
     ]
    },
    {
     "data": {
      "image/png": "[encoded data removed]",
      "text/plain": [
       "<matplotlib.figure.Figure at 0x7f55c66ba0d0>"
      ]
     },
     "metadata": {},
     "output_type": "display_data"
    }
   ],
   "source": [
    "with tf.Session() as sess:\n",
    "    saver.restore(sess, '/tmp/sparse_encoder4.1.ckpt')\n",
    "    template = tf.transpose(weights['in'][:,2])\n",
    "    template = template.eval()\n",
    "    template = template/np.sqrt(np.sum(template**2))\n",
    "    template = template.reshape((28,28))\n",
    "    plt.imshow(template, cmap = 'binary')"
   ]
  },
  {
   "cell_type": "code",
   "execution_count": 29,
   "metadata": {},
   "outputs": [
    {
     "name": "stdout",
     "output_type": "stream",
     "text": [
      "INFO:tensorflow:Restoring parameters from /tmp/sparse_encoder4.1.ckpt\n"
     ]
    },
    {
     "data": {
      "image/png": "[encoded data removed]",
      "text/plain": [
       "<matplotlib.figure.Figure at 0x7f55b053c590>"
      ]
     },
     "metadata": {},
     "output_type": "display_data"
    }
   ],
   "source": [
    "with tf.Session() as sess:\n",
    "    saver.restore(sess, '/tmp/sparse_encoder4.1.ckpt')\n",
    "    template = tf.transpose(weights['in'][:,3])\n",
    "    template = template.eval()\n",
    "    template = template/np.sqrt(np.sum(template**2))\n",
    "    template = template.reshape((28,28))\n",
    "    plt.imshow(template, cmap = 'binary')"
   ]
  },
  {
   "cell_type": "code",
   "execution_count": 30,
   "metadata": {},
   "outputs": [
    {
     "name": "stdout",
     "output_type": "stream",
     "text": [
      "INFO:tensorflow:Restoring parameters from /tmp/sparse_encoder4.1.ckpt\n"
     ]
    },
    {
     "data": {
      "image/png": "[encoded data removed]",
      "text/plain": [
       "<matplotlib.figure.Figure at 0x7f55b008edd0>"
      ]
     },
     "metadata": {},
     "output_type": "display_data"
    }
   ],
   "source": [
    "with tf.Session() as sess:\n",
    "    saver.restore(sess, '/tmp/sparse_encoder4.1.ckpt')\n",
    "    template = tf.transpose(weights['in'][:,4])\n",
    "    template = template.eval()\n",
    "    template = template/np.sqrt(np.sum(template**2))\n",
    "    template = template.reshape((28,28))\n",
    "    plt.imshow(template, cmap = 'binary')"
   ]
  },
  {
   "cell_type": "code",
   "execution_count": 31,
   "metadata": {},
   "outputs": [
    {
     "name": "stdout",
     "output_type": "stream",
     "text": [
      "INFO:tensorflow:Restoring parameters from /tmp/sparse_encoder4.1.ckpt\n"
     ]
    },
    {
     "ename": "ValueError",
     "evalue": "slice index 5 of dimension 1 out of bounds. for 'strided_slice_46' (op: 'StridedSlice') with input shapes: [784,5], [2], [2], [2] and with computed input tensors: input[1] = <0 5>, input[2] = <0 6>, input[3] = <1 1>.",
     "output_type": "error",
     "traceback": [
      "\u001b[0;31m---------------------------------------------------------------------------\u001b[0m",
      "\u001b[0;31mValueError\u001b[0m                                Traceback (most recent call last)",
      "\u001b[0;32m<ipython-input-31-2d47aa8b30e2>\u001b[0m in \u001b[0;36m<module>\u001b[0;34m()\u001b[0m\n\u001b[1;32m      1\u001b[0m \u001b[0;32mwith\u001b[0m \u001b[0mtf\u001b[0m\u001b[0;34m.\u001b[0m\u001b[0mSession\u001b[0m\u001b[0;34m(\u001b[0m\u001b[0;34m)\u001b[0m \u001b[0;32mas\u001b[0m \u001b[0msess\u001b[0m\u001b[0;34m:\u001b[0m\u001b[0;34m\u001b[0m\u001b[0m\n\u001b[1;32m      2\u001b[0m     \u001b[0msaver\u001b[0m\u001b[0;34m.\u001b[0m\u001b[0mrestore\u001b[0m\u001b[0;34m(\u001b[0m\u001b[0msess\u001b[0m\u001b[0;34m,\u001b[0m \u001b[0;34m'/tmp/sparse_encoder4.1.ckpt'\u001b[0m\u001b[0;34m)\u001b[0m\u001b[0;34m\u001b[0m\u001b[0m\n\u001b[0;32m----> 3\u001b[0;31m     \u001b[0mtemplate\u001b[0m \u001b[0;34m=\u001b[0m \u001b[0mtf\u001b[0m\u001b[0;34m.\u001b[0m\u001b[0mtranspose\u001b[0m\u001b[0;34m(\u001b[0m\u001b[0mweights\u001b[0m\u001b[0;34m[\u001b[0m\u001b[0;34m'in'\u001b[0m\u001b[0;34m]\u001b[0m\u001b[0;34m[\u001b[0m\u001b[0;34m:\u001b[0m\u001b[0;34m,\u001b[0m\u001b[0;36m5\u001b[0m\u001b[0;34m]\u001b[0m\u001b[0;34m)\u001b[0m\u001b[0;34m\u001b[0m\u001b[0m\n\u001b[0m\u001b[1;32m      4\u001b[0m     \u001b[0mtemplate\u001b[0m \u001b[0;34m=\u001b[0m \u001b[0mtemplate\u001b[0m\u001b[0;34m.\u001b[0m\u001b[0meval\u001b[0m\u001b[0;34m(\u001b[0m\u001b[0;34m)\u001b[0m\u001b[0;34m\u001b[0m\u001b[0m\n\u001b[1;32m      5\u001b[0m     \u001b[0mtemplate\u001b[0m \u001b[0;34m=\u001b[0m \u001b[0mtemplate\u001b[0m\u001b[0;34m/\u001b[0m\u001b[0mnp\u001b[0m\u001b[0;34m.\u001b[0m\u001b[0msqrt\u001b[0m\u001b[0;34m(\u001b[0m\u001b[0mnp\u001b[0m\u001b[0;34m.\u001b[0m\u001b[0msum\u001b[0m\u001b[0;34m(\u001b[0m\u001b[0mtemplate\u001b[0m\u001b[0;34m**\u001b[0m\u001b[0;36m2\u001b[0m\u001b[0;34m)\u001b[0m\u001b[0;34m)\u001b[0m\u001b[0;34m\u001b[0m\u001b[0m\n",
      "\u001b[0;32m/home/hari/.local/lib/python2.7/site-packages/tensorflow/python/ops/array_ops.pyc\u001b[0m in \u001b[0;36m_SliceHelperVar\u001b[0;34m(var, slice_spec)\u001b[0m\n\u001b[1;32m    826\u001b[0m   \"\"\"\n\u001b[1;32m    827\u001b[0m \u001b[0;34m\u001b[0m\u001b[0m\n\u001b[0;32m--> 828\u001b[0;31m   \u001b[0;32mreturn\u001b[0m \u001b[0m_slice_helper\u001b[0m\u001b[0;34m(\u001b[0m\u001b[0mvar\u001b[0m\u001b[0;34m.\u001b[0m\u001b[0m_AsTensor\u001b[0m\u001b[0;34m(\u001b[0m\u001b[0;34m)\u001b[0m\u001b[0;34m,\u001b[0m \u001b[0mslice_spec\u001b[0m\u001b[0;34m,\u001b[0m \u001b[0mvar\u001b[0m\u001b[0;34m)\u001b[0m\u001b[0;34m\u001b[0m\u001b[0m\n\u001b[0m\u001b[1;32m    829\u001b[0m \u001b[0;34m\u001b[0m\u001b[0m\n\u001b[1;32m    830\u001b[0m \u001b[0;34m\u001b[0m\u001b[0m\n",
      "\u001b[0;32m/home/hari/.local/lib/python2.7/site-packages/tensorflow/python/ops/array_ops.pyc\u001b[0m in \u001b[0;36m_slice_helper\u001b[0;34m(tensor, slice_spec, var)\u001b[0m\n\u001b[1;32m    586\u001b[0m         \u001b[0mellipsis_mask\u001b[0m\u001b[0;34m=\u001b[0m\u001b[0mellipsis_mask\u001b[0m\u001b[0;34m,\u001b[0m\u001b[0;34m\u001b[0m\u001b[0m\n\u001b[1;32m    587\u001b[0m         \u001b[0mvar\u001b[0m\u001b[0;34m=\u001b[0m\u001b[0mvar\u001b[0m\u001b[0;34m,\u001b[0m\u001b[0;34m\u001b[0m\u001b[0m\n\u001b[0;32m--> 588\u001b[0;31m         name=name)\n\u001b[0m\u001b[1;32m    589\u001b[0m \u001b[0;34m\u001b[0m\u001b[0m\n\u001b[1;32m    590\u001b[0m \u001b[0;34m\u001b[0m\u001b[0m\n",
      "\u001b[0;32m/home/hari/.local/lib/python2.7/site-packages/tensorflow/python/ops/array_ops.pyc\u001b[0m in \u001b[0;36mstrided_slice\u001b[0;34m(input_, begin, end, strides, begin_mask, end_mask, ellipsis_mask, new_axis_mask, shrink_axis_mask, var, name)\u001b[0m\n\u001b[1;32m    752\u001b[0m       \u001b[0mellipsis_mask\u001b[0m\u001b[0;34m=\u001b[0m\u001b[0mellipsis_mask\u001b[0m\u001b[0;34m,\u001b[0m\u001b[0;34m\u001b[0m\u001b[0m\n\u001b[1;32m    753\u001b[0m       \u001b[0mnew_axis_mask\u001b[0m\u001b[0;34m=\u001b[0m\u001b[0mnew_axis_mask\u001b[0m\u001b[0;34m,\u001b[0m\u001b[0;34m\u001b[0m\u001b[0m\n\u001b[0;32m--> 754\u001b[0;31m       shrink_axis_mask=shrink_axis_mask)\n\u001b[0m\u001b[1;32m    755\u001b[0m \u001b[0;34m\u001b[0m\u001b[0m\n\u001b[1;32m    756\u001b[0m   \u001b[0mparent_name\u001b[0m \u001b[0;34m=\u001b[0m \u001b[0mname\u001b[0m\u001b[0;34m\u001b[0m\u001b[0m\n",
      "\u001b[0;32m/home/hari/.local/lib/python2.7/site-packages/tensorflow/python/ops/gen_array_ops.pyc\u001b[0m in \u001b[0;36mstrided_slice\u001b[0;34m(input, begin, end, strides, begin_mask, end_mask, ellipsis_mask, new_axis_mask, shrink_axis_mask, name)\u001b[0m\n\u001b[1;32m   5395\u001b[0m         \u001b[0mbegin_mask\u001b[0m\u001b[0;34m=\u001b[0m\u001b[0mbegin_mask\u001b[0m\u001b[0;34m,\u001b[0m \u001b[0mend_mask\u001b[0m\u001b[0;34m=\u001b[0m\u001b[0mend_mask\u001b[0m\u001b[0;34m,\u001b[0m \u001b[0mellipsis_mask\u001b[0m\u001b[0;34m=\u001b[0m\u001b[0mellipsis_mask\u001b[0m\u001b[0;34m,\u001b[0m\u001b[0;34m\u001b[0m\u001b[0m\n\u001b[1;32m   5396\u001b[0m         \u001b[0mnew_axis_mask\u001b[0m\u001b[0;34m=\u001b[0m\u001b[0mnew_axis_mask\u001b[0m\u001b[0;34m,\u001b[0m \u001b[0mshrink_axis_mask\u001b[0m\u001b[0;34m=\u001b[0m\u001b[0mshrink_axis_mask\u001b[0m\u001b[0;34m,\u001b[0m\u001b[0;34m\u001b[0m\u001b[0m\n\u001b[0;32m-> 5397\u001b[0;31m         name=name)\n\u001b[0m\u001b[1;32m   5398\u001b[0m     \u001b[0m_result\u001b[0m \u001b[0;34m=\u001b[0m \u001b[0m_op\u001b[0m\u001b[0;34m.\u001b[0m\u001b[0moutputs\u001b[0m\u001b[0;34m[\u001b[0m\u001b[0;34m:\u001b[0m\u001b[0;34m]\u001b[0m\u001b[0;34m\u001b[0m\u001b[0m\n\u001b[1;32m   5399\u001b[0m     \u001b[0m_inputs_flat\u001b[0m \u001b[0;34m=\u001b[0m \u001b[0m_op\u001b[0m\u001b[0;34m.\u001b[0m\u001b[0minputs\u001b[0m\u001b[0;34m\u001b[0m\u001b[0m\n",
      "\u001b[0;32m/home/hari/.local/lib/python2.7/site-packages/tensorflow/python/framework/op_def_library.pyc\u001b[0m in \u001b[0;36m_apply_op_helper\u001b[0;34m(self, op_type_name, name, **keywords)\u001b[0m\n\u001b[1;32m    785\u001b[0m         op = g.create_op(op_type_name, inputs, output_types, name=scope,\n\u001b[1;32m    786\u001b[0m                          \u001b[0minput_types\u001b[0m\u001b[0;34m=\u001b[0m\u001b[0minput_types\u001b[0m\u001b[0;34m,\u001b[0m \u001b[0mattrs\u001b[0m\u001b[0;34m=\u001b[0m\u001b[0mattr_protos\u001b[0m\u001b[0;34m,\u001b[0m\u001b[0;34m\u001b[0m\u001b[0m\n\u001b[0;32m--> 787\u001b[0;31m                          op_def=op_def)\n\u001b[0m\u001b[1;32m    788\u001b[0m       \u001b[0;32mreturn\u001b[0m \u001b[0moutput_structure\u001b[0m\u001b[0;34m,\u001b[0m \u001b[0mop_def\u001b[0m\u001b[0;34m.\u001b[0m\u001b[0mis_stateful\u001b[0m\u001b[0;34m,\u001b[0m \u001b[0mop\u001b[0m\u001b[0;34m\u001b[0m\u001b[0m\n\u001b[1;32m    789\u001b[0m \u001b[0;34m\u001b[0m\u001b[0m\n",
      "\u001b[0;32m/home/hari/.local/lib/python2.7/site-packages/tensorflow/python/framework/ops.pyc\u001b[0m in \u001b[0;36mcreate_op\u001b[0;34m(self, op_type, inputs, dtypes, input_types, name, attrs, op_def, compute_shapes, compute_device)\u001b[0m\n\u001b[1;32m   3271\u001b[0m         op_def=op_def)\n\u001b[1;32m   3272\u001b[0m     self._create_op_helper(ret, compute_shapes=compute_shapes,\n\u001b[0;32m-> 3273\u001b[0;31m                            compute_device=compute_device)\n\u001b[0m\u001b[1;32m   3274\u001b[0m     \u001b[0;32mreturn\u001b[0m \u001b[0mret\u001b[0m\u001b[0;34m\u001b[0m\u001b[0m\n\u001b[1;32m   3275\u001b[0m \u001b[0;34m\u001b[0m\u001b[0m\n",
      "\u001b[0;32m/home/hari/.local/lib/python2.7/site-packages/tensorflow/python/framework/ops.pyc\u001b[0m in \u001b[0;36m_create_op_helper\u001b[0;34m(self, op, compute_shapes, compute_device)\u001b[0m\n\u001b[1;32m   3311\u001b[0m     \u001b[0;31m# compute_shapes argument.\u001b[0m\u001b[0;34m\u001b[0m\u001b[0;34m\u001b[0m\u001b[0m\n\u001b[1;32m   3312\u001b[0m     \u001b[0;32mif\u001b[0m \u001b[0mop\u001b[0m\u001b[0;34m.\u001b[0m\u001b[0m_c_op\u001b[0m \u001b[0;32mor\u001b[0m \u001b[0mcompute_shapes\u001b[0m\u001b[0;34m:\u001b[0m  \u001b[0;31m# pylint: disable=protected-access\u001b[0m\u001b[0;34m\u001b[0m\u001b[0m\n\u001b[0;32m-> 3313\u001b[0;31m       \u001b[0mset_shapes_for_outputs\u001b[0m\u001b[0;34m(\u001b[0m\u001b[0mop\u001b[0m\u001b[0;34m)\u001b[0m\u001b[0;34m\u001b[0m\u001b[0m\n\u001b[0m\u001b[1;32m   3314\u001b[0m     \u001b[0;31m# TODO(b/XXXX): move to Operation.__init__ once _USE_C_API flag is removed.\u001b[0m\u001b[0;34m\u001b[0m\u001b[0;34m\u001b[0m\u001b[0m\n\u001b[1;32m   3315\u001b[0m     \u001b[0mself\u001b[0m\u001b[0;34m.\u001b[0m\u001b[0m_add_op\u001b[0m\u001b[0;34m(\u001b[0m\u001b[0mop\u001b[0m\u001b[0;34m)\u001b[0m\u001b[0;34m\u001b[0m\u001b[0m\n",
      "\u001b[0;32m/home/hari/.local/lib/python2.7/site-packages/tensorflow/python/framework/ops.pyc\u001b[0m in \u001b[0;36mset_shapes_for_outputs\u001b[0;34m(op)\u001b[0m\n\u001b[1;32m   2499\u001b[0m     \u001b[0;32mreturn\u001b[0m \u001b[0m_set_shapes_for_outputs_c_api\u001b[0m\u001b[0;34m(\u001b[0m\u001b[0mop\u001b[0m\u001b[0;34m)\u001b[0m\u001b[0;34m\u001b[0m\u001b[0m\n\u001b[1;32m   2500\u001b[0m   \u001b[0;32melse\u001b[0m\u001b[0;34m:\u001b[0m\u001b[0;34m\u001b[0m\u001b[0m\n\u001b[0;32m-> 2501\u001b[0;31m     \u001b[0;32mreturn\u001b[0m \u001b[0m_set_shapes_for_outputs\u001b[0m\u001b[0;34m(\u001b[0m\u001b[0mop\u001b[0m\u001b[0;34m)\u001b[0m\u001b[0;34m\u001b[0m\u001b[0m\n\u001b[0m\u001b[1;32m   2502\u001b[0m \u001b[0;34m\u001b[0m\u001b[0m\n\u001b[1;32m   2503\u001b[0m \u001b[0;34m\u001b[0m\u001b[0m\n",
      "\u001b[0;32m/home/hari/.local/lib/python2.7/site-packages/tensorflow/python/framework/ops.pyc\u001b[0m in \u001b[0;36m_set_shapes_for_outputs\u001b[0;34m(op)\u001b[0m\n\u001b[1;32m   2472\u001b[0m       \u001b[0mshape_func\u001b[0m \u001b[0;34m=\u001b[0m \u001b[0m_call_cpp_shape_fn_and_require_op\u001b[0m\u001b[0;34m\u001b[0m\u001b[0m\n\u001b[1;32m   2473\u001b[0m \u001b[0;34m\u001b[0m\u001b[0m\n\u001b[0;32m-> 2474\u001b[0;31m   \u001b[0mshapes\u001b[0m \u001b[0;34m=\u001b[0m \u001b[0mshape_func\u001b[0m\u001b[0;34m(\u001b[0m\u001b[0mop\u001b[0m\u001b[0;34m)\u001b[0m\u001b[0;34m\u001b[0m\u001b[0m\n\u001b[0m\u001b[1;32m   2475\u001b[0m   \u001b[0;32mif\u001b[0m \u001b[0mshapes\u001b[0m \u001b[0;32mis\u001b[0m \u001b[0mNone\u001b[0m\u001b[0;34m:\u001b[0m\u001b[0;34m\u001b[0m\u001b[0m\n\u001b[1;32m   2476\u001b[0m     raise RuntimeError(\n",
      "\u001b[0;32m/home/hari/.local/lib/python2.7/site-packages/tensorflow/python/framework/ops.pyc\u001b[0m in \u001b[0;36mcall_with_requiring\u001b[0;34m(op)\u001b[0m\n\u001b[1;32m   2402\u001b[0m \u001b[0;34m\u001b[0m\u001b[0m\n\u001b[1;32m   2403\u001b[0m   \u001b[0;32mdef\u001b[0m \u001b[0mcall_with_requiring\u001b[0m\u001b[0;34m(\u001b[0m\u001b[0mop\u001b[0m\u001b[0;34m)\u001b[0m\u001b[0;34m:\u001b[0m\u001b[0;34m\u001b[0m\u001b[0m\n\u001b[0;32m-> 2404\u001b[0;31m     \u001b[0;32mreturn\u001b[0m \u001b[0mcall_cpp_shape_fn\u001b[0m\u001b[0;34m(\u001b[0m\u001b[0mop\u001b[0m\u001b[0;34m,\u001b[0m \u001b[0mrequire_shape_fn\u001b[0m\u001b[0;34m=\u001b[0m\u001b[0mTrue\u001b[0m\u001b[0;34m)\u001b[0m\u001b[0;34m\u001b[0m\u001b[0m\n\u001b[0m\u001b[1;32m   2405\u001b[0m \u001b[0;34m\u001b[0m\u001b[0m\n\u001b[1;32m   2406\u001b[0m   \u001b[0m_call_cpp_shape_fn_and_require_op\u001b[0m \u001b[0;34m=\u001b[0m \u001b[0mcall_with_requiring\u001b[0m\u001b[0;34m\u001b[0m\u001b[0m\n",
      "\u001b[0;32m/home/hari/.local/lib/python2.7/site-packages/tensorflow/python/framework/common_shapes.pyc\u001b[0m in \u001b[0;36mcall_cpp_shape_fn\u001b[0;34m(op, require_shape_fn)\u001b[0m\n\u001b[1;32m    625\u001b[0m     res = _call_cpp_shape_fn_impl(op, input_tensors_needed,\n\u001b[1;32m    626\u001b[0m                                   \u001b[0minput_tensors_as_shapes_needed\u001b[0m\u001b[0;34m,\u001b[0m\u001b[0;34m\u001b[0m\u001b[0m\n\u001b[0;32m--> 627\u001b[0;31m                                   require_shape_fn)\n\u001b[0m\u001b[1;32m    628\u001b[0m     \u001b[0;32mif\u001b[0m \u001b[0;32mnot\u001b[0m \u001b[0misinstance\u001b[0m\u001b[0;34m(\u001b[0m\u001b[0mres\u001b[0m\u001b[0;34m,\u001b[0m \u001b[0mdict\u001b[0m\u001b[0;34m)\u001b[0m\u001b[0;34m:\u001b[0m\u001b[0;34m\u001b[0m\u001b[0m\n\u001b[1;32m    629\u001b[0m       \u001b[0;31m# Handles the case where _call_cpp_shape_fn_impl calls unknown_shape(op).\u001b[0m\u001b[0;34m\u001b[0m\u001b[0;34m\u001b[0m\u001b[0m\n",
      "\u001b[0;32m/home/hari/.local/lib/python2.7/site-packages/tensorflow/python/framework/common_shapes.pyc\u001b[0m in \u001b[0;36m_call_cpp_shape_fn_impl\u001b[0;34m(op, input_tensors_needed, input_tensors_as_shapes_needed, require_shape_fn)\u001b[0m\n\u001b[1;32m    689\u001b[0m       \u001b[0mmissing_shape_fn\u001b[0m \u001b[0;34m=\u001b[0m \u001b[0mTrue\u001b[0m\u001b[0;34m\u001b[0m\u001b[0m\n\u001b[1;32m    690\u001b[0m     \u001b[0;32melse\u001b[0m\u001b[0;34m:\u001b[0m\u001b[0;34m\u001b[0m\u001b[0m\n\u001b[0;32m--> 691\u001b[0;31m       \u001b[0;32mraise\u001b[0m \u001b[0mValueError\u001b[0m\u001b[0;34m(\u001b[0m\u001b[0merr\u001b[0m\u001b[0;34m.\u001b[0m\u001b[0mmessage\u001b[0m\u001b[0;34m)\u001b[0m\u001b[0;34m\u001b[0m\u001b[0m\n\u001b[0m\u001b[1;32m    692\u001b[0m \u001b[0;34m\u001b[0m\u001b[0m\n\u001b[1;32m    693\u001b[0m   \u001b[0;32mif\u001b[0m \u001b[0mmissing_shape_fn\u001b[0m\u001b[0;34m:\u001b[0m\u001b[0;34m\u001b[0m\u001b[0m\n",
      "\u001b[0;31mValueError\u001b[0m: slice index 5 of dimension 1 out of bounds. for 'strided_slice_46' (op: 'StridedSlice') with input shapes: [784,5], [2], [2], [2] and with computed input tensors: input[1] = <0 5>, input[2] = <0 6>, input[3] = <1 1>."
     ]
    }
   ],
   "source": [
    "with tf.Session() as sess:\n",
    "    saver.restore(sess, '/tmp/sparse_encoder4.1.ckpt')\n",
    "    template = tf.transpose(weights['in'][:,5])\n",
    "    template = template.eval()\n",
    "    template = template/np.sqrt(np.sum(template**2))\n",
    "    template = template.reshape((28,28))\n",
    "    plt.imshow(template, cmap = 'binary')"
   ]
  },
  {
   "cell_type": "code",
   "execution_count": null,
   "metadata": {},
   "outputs": [],
   "source": [
    "with tf.Session() as sess:\n",
    "    saver.restore(sess, '/tmp/sparse_encoder4.1.ckpt')\n",
    "    template = tf.transpose(weights['in'][:,6])\n",
    "    template = template.eval()\n",
    "    template = template/np.sqrt(np.sum(template**2))\n",
    "    template = template.reshape((28,28))\n",
    "    plt.imshow(template, cmap = 'binary')"
   ]
  },
  {
   "cell_type": "code",
   "execution_count": null,
   "metadata": {},
   "outputs": [],
   "source": [
    "with tf.Session() as sess:\n",
    "    saver.restore(sess, '/tmp/sparse_encoder4.1.ckpt')\n",
    "    template = tf.transpose(weights['in'][:,7])\n",
    "    template = template.eval()\n",
    "    template = template/np.sqrt(np.sum(template**2))\n",
    "    template = template.reshape((28,28))\n",
    "    plt.imshow(template, cmap = 'binary')"
   ]
  },
  {
   "cell_type": "code",
   "execution_count": null,
   "metadata": {},
   "outputs": [],
   "source": [
    "with tf.Session() as sess:\n",
    "    saver.restore(sess, '/tmp/sparse_encoder3.1.ckpt')\n",
    "    template = tf.transpose(weights['in'][:,8])\n",
    "    template = template.eval()\n",
    "    template = template/np.sqrt(np.sum(template**2))\n",
    "    template = template.reshape((28,28))\n",
    "    plt.imshow(template, cmap = 'binary')"
   ]
  },
  {
   "cell_type": "code",
   "execution_count": null,
   "metadata": {},
   "outputs": [],
   "source": [
    "with tf.Session() as sess:\n",
    "    saver.restore(sess, '/tmp/sparse_encoder3.1.ckpt')\n",
    "    template = tf.transpose(weights['in'][:,9])\n",
    "    template = template.eval()\n",
    "    template = template/np.sqrt(np.sum(template**2))\n",
    "    template = template.reshape((28,28))\n",
    "    plt.imshow(template, cmap = 'binary')"
   ]
  },
  {
   "cell_type": "code",
   "execution_count": null,
   "metadata": {},
   "outputs": [],
   "source": [
    "with tf.Session() as sess:\n",
    "    saver.restore(sess, '/tmp/sparse_encoder3.1.ckpt')\n",
    "    template = tf.transpose(weights['in'][:,98])\n",
    "    template = template.eval()\n",
    "    template = template/np.sqrt(np.sum(template**2))\n",
    "    template = template.reshape((28,28))\n",
    "    plt.imshow(template, cmap = 'binary')"
   ]
  },
  {
   "cell_type": "code",
   "execution_count": null,
   "metadata": {},
   "outputs": [],
   "source": [
    "with tf.Session() as sess:\n",
    "    saver.restore(sess, '/tmp/sparse_encoder3.1.ckpt')\n",
    "    \n",
    "    for epoch in range(num_epochs):\n",
    "        _, cost1, cost = sess.run([train_op1, loss_op1, loss_op], feed_dict={x:mnist.train.images})\n",
    "        print('after '+str(epoch+1201)+' epochs '+'error cost is '+str(cost)+','+'sparse encoding cost is '+str(cost1))\n",
    "    save_path = saver.save(sess, '/tmp/sparse_encoder3.1.ckpt')"
   ]
  },
  {
   "cell_type": "code",
   "execution_count": null,
   "metadata": {},
   "outputs": [],
   "source": []
  }
 ],
 "metadata": {
  "kernelspec": {
   "display_name": "Python 3",
   "language": "python",
   "name": "python3"
  },
  "language_info": {
   "codemirror_mode": {
    "name": "ipython",
    "version": 2
   },
   "file_extension": ".py",
   "mimetype": "text/x-python",
   "name": "python",
   "nbconvert_exporter": "python",
   "pygments_lexer": "ipython2",
   "version": "2.7.14"
  }
 },
 "nbformat": 4,
 "nbformat_minor": 2
}
